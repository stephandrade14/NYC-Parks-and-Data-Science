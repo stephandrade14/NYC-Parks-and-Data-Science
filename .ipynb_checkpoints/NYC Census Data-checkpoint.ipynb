{
 "cells": [
  {
   "cell_type": "markdown",
   "id": "14e92ced",
   "metadata": {},
   "source": [
    "# New York City Census Data Analysis"
   ]
  },
  {
   "cell_type": "markdown",
   "id": "b6e49332",
   "metadata": {},
   "source": [
    "#### Stephanie Andrade"
   ]
  },
  {
   "cell_type": "code",
   "execution_count": 3,
   "id": "fefd61c5",
   "metadata": {},
   "outputs": [
    {
     "data": {
      "text/html": [
       "<div>\n",
       "<style scoped>\n",
       "    .dataframe tbody tr th:only-of-type {\n",
       "        vertical-align: middle;\n",
       "    }\n",
       "\n",
       "    .dataframe tbody tr th {\n",
       "        vertical-align: top;\n",
       "    }\n",
       "\n",
       "    .dataframe thead th {\n",
       "        text-align: right;\n",
       "    }\n",
       "</style>\n",
       "<table border=\"1\" class=\"dataframe\">\n",
       "  <thead>\n",
       "    <tr style=\"text-align: right;\">\n",
       "      <th></th>\n",
       "      <th>B01001_001E</th>\n",
       "      <th>B01001H_001E</th>\n",
       "      <th>B01001I_001E</th>\n",
       "      <th>state</th>\n",
       "      <th>county</th>\n",
       "    </tr>\n",
       "  </thead>\n",
       "  <tbody>\n",
       "    <tr>\n",
       "      <th>0</th>\n",
       "      <td>21565</td>\n",
       "      <td>19868</td>\n",
       "      <td>403</td>\n",
       "      <td>17</td>\n",
       "      <td>051</td>\n",
       "    </tr>\n",
       "    <tr>\n",
       "      <th>1</th>\n",
       "      <td>29003</td>\n",
       "      <td>25049</td>\n",
       "      <td>985</td>\n",
       "      <td>17</td>\n",
       "      <td>107</td>\n",
       "    </tr>\n",
       "    <tr>\n",
       "      <th>2</th>\n",
       "      <td>23994</td>\n",
       "      <td>21957</td>\n",
       "      <td>428</td>\n",
       "      <td>17</td>\n",
       "      <td>165</td>\n",
       "    </tr>\n",
       "    <tr>\n",
       "      <th>3</th>\n",
       "      <td>701473</td>\n",
       "      <td>432361</td>\n",
       "      <td>152141</td>\n",
       "      <td>17</td>\n",
       "      <td>097</td>\n",
       "    </tr>\n",
       "    <tr>\n",
       "      <th>4</th>\n",
       "      <td>14219</td>\n",
       "      <td>12547</td>\n",
       "      <td>419</td>\n",
       "      <td>17</td>\n",
       "      <td>127</td>\n",
       "    </tr>\n",
       "  </tbody>\n",
       "</table>\n",
       "</div>"
      ],
      "text/plain": [
       "  B01001_001E B01001H_001E B01001I_001E state county\n",
       "0       21565        19868          403    17    051\n",
       "1       29003        25049          985    17    107\n",
       "2       23994        21957          428    17    165\n",
       "3      701473       432361       152141    17    097\n",
       "4       14219        12547          419    17    127"
      ]
     },
     "execution_count": 3,
     "metadata": {},
     "output_type": "execute_result"
    }
   ],
   "source": [
    "import json\n",
    "import requests\n",
    "import pandas as pd\n",
    "\n",
    "r = requests.get('https://api.census.gov/data/2019/acs/acs5?get=B01001_001E,B01001H_001E,B01001I_001E&for=county')\n",
    "type(r.text)\n",
    "censusdata = r.json()\n",
    "df = pd.DataFrame(censusdata[1:], columns=censusdata[0])\n",
    "df.head()"
   ]
  },
  {
   "cell_type": "code",
   "execution_count": null,
   "id": "e80a34b0",
   "metadata": {},
   "outputs": [],
   "source": []
  },
  {
   "cell_type": "code",
   "execution_count": null,
   "id": "86f86057",
   "metadata": {},
   "outputs": [],
   "source": []
  },
  {
   "cell_type": "code",
   "execution_count": null,
   "id": "22edffb5",
   "metadata": {},
   "outputs": [],
   "source": []
  },
  {
   "cell_type": "code",
   "execution_count": null,
   "id": "b13eb451",
   "metadata": {},
   "outputs": [],
   "source": []
  }
 ],
 "metadata": {
  "kernelspec": {
   "display_name": "Python 3 (ipykernel)",
   "language": "python",
   "name": "python3"
  },
  "language_info": {
   "codemirror_mode": {
    "name": "ipython",
    "version": 3
   },
   "file_extension": ".py",
   "mimetype": "text/x-python",
   "name": "python",
   "nbconvert_exporter": "python",
   "pygments_lexer": "ipython3",
   "version": "3.8.13"
  }
 },
 "nbformat": 4,
 "nbformat_minor": 5
}
